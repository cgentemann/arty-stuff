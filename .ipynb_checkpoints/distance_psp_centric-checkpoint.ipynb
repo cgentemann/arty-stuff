{
 "cells": [
  {
   "cell_type": "markdown",
   "id": "ea0bdb42-5a90-4c19-bbd0-fe0fe9637508",
   "metadata": {},
   "source": [
    "# PSP centric\n",
    "\n",
    "This notebook creates a file where all the other planets and the sun are all calculated relative to the Parker Solar Probe"
   ]
  },
  {
   "cell_type": "code",
   "execution_count": 5,
   "id": "356b29d2-1128-4862-883a-7b012e1ae03c",
   "metadata": {},
   "outputs": [
    {
     "name": "stdout",
     "output_type": "stream",
     "text": [
      "         date  distance_to_mercury  distance_to_venus  distance_to_earth  \\\n",
      "0  2018-08-15             0.693265           0.748133           0.254157   \n",
      "1  2018-08-16             0.705636           0.734713           0.249605   \n",
      "2  2018-08-17             0.719688           0.721136           0.245222   \n",
      "3  2018-08-18             0.735364           0.707409           0.241021   \n",
      "4  2018-08-19             0.752589           0.693537           0.237017   \n",
      "\n",
      "   distance_to_sun  \n",
      "0         1.012193  \n",
      "1         1.011415  \n",
      "2         1.010446  \n",
      "3         1.009287  \n",
      "4         1.007936  \n"
     ]
    }
   ],
   "source": [
    "import pandas as pd\n",
    "import numpy as np\n",
    "\n",
    "# Read the CSV file\n",
    "data = pd.read_csv('./data/planet_and_psp_positions.csv')\n",
    "\n",
    "# Function to calculate distance between two points (x1, y1, z1) and (x2, y2, z2)\n",
    "def calculate_distance(x1, y1, z1, x2, y2, z2):\n",
    "    return np.sqrt((x2 - x1)**2 + (y2 - y1)**2 + (z2 - z1)**2)\n",
    "\n",
    "# Create an empty list to store new rows\n",
    "distances_list = []\n",
    "\n",
    "# Loop over each row in the data\n",
    "for index, row in data.iterrows():\n",
    "    psp_x = row['psp_x']\n",
    "    psp_y = row['psp_y']\n",
    "    psp_z = row['psp_z']\n",
    "    \n",
    "    # Calculate the distance to each planet and the Sun (Sun is at (0,0,0))\n",
    "    distances_list.append({\n",
    "        'date': row['date'],\n",
    "        'distance_to_mercury': calculate_distance(psp_x, psp_y, psp_z, row['mercury_x'], row['mercury_y'], row['mercury_z']),\n",
    "        'distance_to_venus': calculate_distance(psp_x, psp_y, psp_z, row['venus_x'], row['venus_y'], row['venus_z']),\n",
    "        'distance_to_earth': calculate_distance(psp_x, psp_y, psp_z, row['earth_x'], row['earth_y'], row['earth_z']),\n",
    "        'distance_to_sun': calculate_distance(psp_x, psp_y, psp_z, 0, 0, 0)  # Sun is at the origin (0,0,0)\n",
    "    })\n",
    "\n",
    "# Convert the list of dictionaries to a DataFrame\n",
    "distances = pd.DataFrame(distances_list)\n",
    "\n",
    "# Save the distances DataFrame to a new CSV file\n",
    "distances.to_csv('./data/psp_distances.csv', index=False)\n",
    "\n",
    "# Display the first few rows of the distances DataFrame\n",
    "print(distances.head())\n"
   ]
  },
  {
   "cell_type": "code",
   "execution_count": null,
   "id": "7d6a9a10-71f6-4e77-99ca-d2ee4545ac6e",
   "metadata": {},
   "outputs": [],
   "source": []
  }
 ],
 "metadata": {
  "kernelspec": {
   "display_name": "Python 3 (ipykernel)",
   "language": "python",
   "name": "python3"
  },
  "language_info": {
   "codemirror_mode": {
    "name": "ipython",
    "version": 3
   },
   "file_extension": ".py",
   "mimetype": "text/x-python",
   "name": "python",
   "nbconvert_exporter": "python",
   "pygments_lexer": "ipython3",
   "version": "3.13.2"
  }
 },
 "nbformat": 4,
 "nbformat_minor": 5
}
