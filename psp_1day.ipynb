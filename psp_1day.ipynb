{
 "cells": [
  {
   "cell_type": "markdown",
   "id": "fa277ecc-7c53-44ce-ac84-bea3f6a91c29",
   "metadata": {},
   "source": [
    "## About HAPI\n",
    "The Heliophysics Data Application Programmer’s Interface (HAPI) specification is a time series download and streaming format specification. A 1-page summary is given in HAPI_OnePager.pdf. A more detailed overview is given in the JGR article Weigel et al., 2021 and the presentation by Vandegriff et al. (pdf|YouTube video).\n",
    "\n",
    "The HAPI specification was recommended by COSPAR in 2018 as the common data access API for space science and space weather data.\n",
    "\n",
    "When data are available from a HAPI server, there is no need to download data files and write custom file reader programs. Using a HAPI client library, data can be loaded into an array using a single command using HAPI IDL, MATLAB, and Python clients. Data from HAPI servers is also accessible to users of Autoplot, PySPEDAS, and IDL SPEDAS. Sample scripts and containing instructions for accessing data using the above–listed clients may be found by selecting a server, dataset, and time range at the web interface http://hapi-server.org/servers/.\n",
    "\n",
    "A list of HAPI-compliant data servers is available at http://hapi-server.org/servers/.\n",
    "\n",
    "The hapi-server GitHub project contains a collection of repositories for HAPI–related software and documentation, including client and server libraries and code for verifying and testing a HAPI server.\n",
    "\n",
    "Go to the server [here](https://hapi-server.org/)"
   ]
  },
  {
   "cell_type": "code",
   "execution_count": null,
   "id": "bd05b011-09e7-46e4-8211-14c0e0804f23",
   "metadata": {},
   "outputs": [],
   "source": [
    "# Python 2.7 and 3 compatible\n",
    "# Report software bugs/issues/feature requests at\n",
    "# https://github.com/hapi-server/client-python/issues\n",
    "# Report data server issues to NASA-SPDF-Support@nasa.onmicrosoft.com\n",
    "\n",
    "# Install latest hapiclient package from https://pypi.org/project/hapiclient/\n",
    "# Only needs to be executed once.\n",
    "import os; print(os.popen('pip install hapiclient --upgrade').read())\n",
    "\n",
    "from hapiclient import hapi\n",
    "\n",
    "server     = 'https://cdaweb.gsfc.nasa.gov/hapi'\n",
    "dataset    = 'PSP_HELIO1DAY_POSITION'\n",
    "# Notes:\n",
    "# 1. Use parameters='' to request all parameters from PSP_HELIO1DAY_POSITION.\n",
    "# 2. Multiple parameters can be requested using a comma-separated\n",
    "#    list, e.g., parameters='RAD_AU,SE_LAT'\n",
    "parameters = ''\n",
    "start      = '2018-08-13T00:00:00Z' # min 2018-08-13T00:00:00Z\n",
    "stop       = '2029-08-15T00:00:00.000Z' # max 2029-01-31T00:00:00Z\n",
    "\n",
    "data, meta = hapi(server, dataset, parameters, start, stop)\n",
    "\n",
    "import os; print(os.popen('pip install hapiplot --upgrade').read())\n",
    "from hapiplot import hapiplot\n",
    "hapiplot(data, meta)\n",
    "\n",
    "# Notes:\n",
    "# 1. To convert ISO 8601 strings the primary time parameter to Python\n",
    "#    datetimes, use\n",
    "#      from hapiclient import hapitime2datetime\n",
    "#      time_name = meta[\"parameters\"][0][\"name\"] # Primary time parameter is always first.\n",
    "#      Time = hapitime2datetime(data[time_name])\n",
    "# 2. Details about the data and metadata structures `data`\n",
    "#    and `meta` are given at \n",
    "#    https://github.com/hapi-server/client-python-notebooks/blob/master/hapi_demo.ipynb\n",
    "# 3. Many examples for using `data` and `meta` with other\n",
    "#    Python libraries (e.g., Pandas, Numpy, Astropy) are given\n",
    "#    in above-referenced notebook."
   ]
  },
  {
   "cell_type": "code",
   "execution_count": null,
   "id": "c006e1d6-6ac6-4c12-a6ca-b8e37fb277bc",
   "metadata": {},
   "outputs": [],
   "source": [
    "#df = pd.DataFrame(array, columns=['Time', 'RadAU', 'SE_LAT','SE_LON','HG_LAT','HG_LON','HGI_LAT','HGI_LON']) \n",
    "from hapiclient import hapi\n",
    "\n",
    "server     = 'https://cdaweb.gsfc.nasa.gov/hapi'\n",
    "dataset    = 'PSP_HELIO1DAY_POSITION'\n",
    "# Notes:\n",
    "# 1. Use parameters='' to request all parameters from PSP_HELIO1DAY_POSITION.\n",
    "# 2. Multiple parameters can be requested using a comma-separated\n",
    "#    list, e.g., parameters='RAD_AU,SE_LAT'\n",
    "parameters = ''\n",
    "start      = '2018-08-13T00:00:00Z' # min 2018-08-13T00:00:00Z\n",
    "stop       = '2029-08-15T00:00:00.000Z' # max 2029-01-31T00:00:00Z\n",
    "\n",
    "data, meta = hapi(server, dataset, parameters, start, stop)\n"
   ]
  },
  {
   "cell_type": "code",
   "execution_count": null,
   "id": "489aff10-24cb-4395-bcf5-14ca0d91810d",
   "metadata": {},
   "outputs": [],
   "source": [
    "import numpy as np\n",
    "import pandas as pd\n",
    "data_dict = {name: data[name] for name in data.dtype.names}\n",
    "# Convert to DataFrame\n",
    "df = pd.DataFrame([data_dict])\n",
    "df['Time'] = df['Time'].apply(lambda x: x[0].decode('utf-8') if isinstance(x, (list, np.ndarray)) else x)\n",
    "# Convert to datetime64\n",
    "df['Time'] = pd.to_datetime(df['Time'])\n"
   ]
  },
  {
   "cell_type": "code",
   "execution_count": null,
   "id": "d726d618-ef25-4979-a9b4-84c5e735870e",
   "metadata": {},
   "outputs": [],
   "source": [
    "# Convert the column into multiple rows\n",
    "df_exploded = df.explode('RAD_AU', ignore_index=True)\n",
    "#df_exploded"
   ]
  },
  {
   "cell_type": "code",
   "execution_count": null,
   "id": "ded9221f-a668-4b96-a2b4-179f986cc47a",
   "metadata": {},
   "outputs": [],
   "source": [
    "df_exploded.to_csv(\"./data/psp_1day_output.csv\", index=False)"
   ]
  },
  {
   "cell_type": "markdown",
   "id": "556ef32e-cae1-40bd-8473-51f94c31e4cb",
   "metadata": {},
   "source": [
    "# VENUS"
   ]
  },
  {
   "cell_type": "code",
   "execution_count": null,
   "id": "1697184d-a633-4731-b83a-25b03adf00a7",
   "metadata": {},
   "outputs": [],
   "source": [
    "from astropy.coordinates import get_body_barycentric\n",
    "from astropy.time import Time\n",
    "import pandas as pd\n",
    "\n",
    "# Generate dates from 2018 to 2025 in 1-day increments\n",
    "dates = pd.date_range(start=\"2018-01-01\", end=\"2025-12-31\", freq=\"D\")\n",
    "time = Time(dates)\n",
    "\n",
    "planets = ['venus', 'mercury', 'earth']\n",
    "\n",
    "for pp in planets:\n",
    "    # Get plane position relative to the Sun (barycentric coordinates)\n",
    "    positions = get_body_barycentric(pp, time)\n",
    "    \n",
    "    # Convert to DataFrame\n",
    "    df = pd.DataFrame({\n",
    "        \"date\": dates,\n",
    "        \"x\": positions.x.to_value(\"AU\"),\n",
    "        \"y\": positions.y.to_value(\"AU\"),\n",
    "        \"z\": positions.z.to_value(\"AU\"),\n",
    "    })\n",
    "    \n",
    "    # Print sample data\n",
    "    print(df.head())\n",
    "    df.to_csv(\"./data/\"+pp+\"_1day_output.csv\", index=False)"
   ]
  },
  {
   "cell_type": "code",
   "execution_count": null,
   "id": "bd536d19-7b01-47f8-a043-93fa3f9f3fb0",
   "metadata": {},
   "outputs": [],
   "source": [
    "pip install spiceypy"
   ]
  },
  {
   "cell_type": "code",
   "execution_count": 20,
   "id": "1af2bfad-93b1-400d-8367-6cd1de0350fa",
   "metadata": {},
   "outputs": [
    {
     "name": "stdout",
     "output_type": "stream",
     "text": [
      "('spice_kernels/naif0012.tls', 'TEXT', '', 0)\n",
      "('spice_kernels/de440s.bsp', 'SPK', '', 7)\n",
      "('spice_kernels/spp_nom_20180812_20300101_v042_PostV7.bsp', 'SPK', '', 8)\n"
     ]
    }
   ],
   "source": [
    "import spiceypy as spice\n",
    "\n",
    "spice.kclear()  # Clear any previously loaded kernels\n",
    "\n",
    "# Load the kernels\n",
    "spice.furnsh(\"spice_kernels/naif0012.tls\")  # Leap seconds\n",
    "spice.furnsh(\"spice_kernels/de440s.bsp\")    # Planetary ephemeris\n",
    "spice.furnsh(\"spice_kernels/spp_nom_20180812_20300101_v042_PostV7.bsp\")  # PSP nominal trajectory\n",
    "\n",
    "# List loaded kernels\n",
    "for i in range(spice.ktotal(\"ALL\")):\n",
    "    print(spice.kdata(i, \"ALL\", 100, 100, 100))\n"
   ]
  },
  {
   "cell_type": "code",
   "execution_count": 21,
   "id": "fd4e040a-4e45-432d-b02e-430d118f6a71",
   "metadata": {},
   "outputs": [
    {
     "name": "stdout",
     "output_type": "stream",
     "text": [
      "Available SPICE IDs: <SpiceCell dtype = 2, length = 0, size = 1000, card = 1, is_set = 1, adjust = 0, init = 1, base = 1302132131104, data = 1302132131128>\n",
      "Object ID -96: SOLAR PROBE PLUS\n"
     ]
    }
   ],
   "source": [
    "# List available objects in the PSP kernel\n",
    "ids = spice.spkobj(\"spice_kernels/spp_nom_20180812_20300101_v042_PostV7.bsp\")\n",
    "print(\"Available SPICE IDs:\", ids)\n",
    "\n",
    "# Print names associated with each ID\n",
    "for obj_id in ids:\n",
    "    try:\n",
    "        print(f\"Object ID {obj_id}: {spice.bodc2n(obj_id)}\")\n",
    "    except spice.SpiceyError:\n",
    "        print(f\"Object ID {obj_id}: (No name found)\")\n"
   ]
  },
  {
   "cell_type": "code",
   "execution_count": 22,
   "id": "a09fb595-0d1d-49a2-9f22-9e18922e3e9b",
   "metadata": {},
   "outputs": [
    {
     "ename": "SpiceIDCODENOTFOUND",
     "evalue": "\n================================================================================\n\nToolkit version: CSPICE_N0067\n\nSPICE(IDCODENOTFOUND) --\n\nThe target, '-96: SOLAR PROBE PLUS', is not a recognized name for an ephemeris object. The cause of this problem may be that you need an updated version of the SPICE toolkit. Alternatively you may call SPKEZP directly if you know the SPICE id-codes for both '-96: SOLAR PROBE PLUS' and 'SUN'\n\nspkpos_c --> SPKPOS\n\n================================================================================",
     "output_type": "error",
     "traceback": [
      "\u001b[1;31m---------------------------------------------------------------------------\u001b[0m",
      "\u001b[1;31mSpiceIDCODENOTFOUND\u001b[0m                       Traceback (most recent call last)",
      "\u001b[1;32m~\\AppData\\Local\\Temp\\1\\ipykernel_17124\\1858023242.py\u001b[0m in \u001b[0;36m?\u001b[1;34m()\u001b[0m\n\u001b[0;32m      1\u001b[0m \u001b[0mPSP_ID\u001b[0m \u001b[1;33m=\u001b[0m \u001b[1;34m\"-96: SOLAR PROBE PLUS\"\u001b[0m  \u001b[1;31m# Replace with actual ID found\u001b[0m\u001b[1;33m\u001b[0m\u001b[1;33m\u001b[0m\u001b[0m\n\u001b[0;32m      2\u001b[0m \u001b[1;33m\u001b[0m\u001b[0m\n\u001b[1;32m----> 3\u001b[1;33m \u001b[0mpositions\u001b[0m \u001b[1;33m=\u001b[0m \u001b[1;33m[\u001b[0m\u001b[0mspice\u001b[0m\u001b[1;33m.\u001b[0m\u001b[0mspkpos\u001b[0m\u001b[1;33m(\u001b[0m\u001b[0mPSP_ID\u001b[0m\u001b[1;33m,\u001b[0m \u001b[0met\u001b[0m\u001b[1;33m,\u001b[0m \u001b[1;34m\"ECLIPJ2000\"\u001b[0m\u001b[1;33m,\u001b[0m \u001b[1;34m\"NONE\"\u001b[0m\u001b[1;33m,\u001b[0m \u001b[1;34m\"SUN\"\u001b[0m\u001b[1;33m)\u001b[0m\u001b[1;33m[\u001b[0m\u001b[1;36m0\u001b[0m\u001b[1;33m]\u001b[0m \u001b[1;32mfor\u001b[0m \u001b[0met\u001b[0m \u001b[1;32min\u001b[0m \u001b[0met_times\u001b[0m\u001b[1;33m]\u001b[0m\u001b[1;33m\u001b[0m\u001b[1;33m\u001b[0m\u001b[0m\n\u001b[0m",
      "\u001b[1;32m~\\AppData\\Local\\miniconda3\\envs\\heart\\Lib\\site-packages\\spiceypy\\spiceypy.py\u001b[0m in \u001b[0;36m?\u001b[1;34m(*args, **kwargs)\u001b[0m\n\u001b[0;32m    138\u001b[0m             \u001b[0mres\u001b[0m \u001b[1;33m=\u001b[0m \u001b[0mf\u001b[0m\u001b[1;33m(\u001b[0m\u001b[1;33m*\u001b[0m\u001b[0margs\u001b[0m\u001b[1;33m,\u001b[0m \u001b[1;33m**\u001b[0m\u001b[0mkwargs\u001b[0m\u001b[1;33m)\u001b[0m\u001b[1;33m\u001b[0m\u001b[1;33m\u001b[0m\u001b[0m\n\u001b[0;32m    139\u001b[0m             \u001b[0mcheck_for_spice_error\u001b[0m\u001b[1;33m(\u001b[0m\u001b[0mf\u001b[0m\u001b[1;33m)\u001b[0m\u001b[1;33m\u001b[0m\u001b[1;33m\u001b[0m\u001b[0m\n\u001b[0;32m    140\u001b[0m             \u001b[1;32mreturn\u001b[0m \u001b[0mres\u001b[0m\u001b[1;33m\u001b[0m\u001b[1;33m\u001b[0m\u001b[0m\n\u001b[0;32m    141\u001b[0m         \u001b[1;32mexcept\u001b[0m \u001b[0mBaseException\u001b[0m\u001b[1;33m:\u001b[0m\u001b[1;33m\u001b[0m\u001b[1;33m\u001b[0m\u001b[0m\n\u001b[1;32m--> 142\u001b[1;33m             \u001b[1;32mraise\u001b[0m\u001b[1;33m\u001b[0m\u001b[1;33m\u001b[0m\u001b[0m\n\u001b[0m",
      "\u001b[1;32m~\\AppData\\Local\\miniconda3\\envs\\heart\\Lib\\site-packages\\spiceypy\\spiceypy.py\u001b[0m in \u001b[0;36m?\u001b[1;34m(f)\u001b[0m\n\u001b[0;32m    118\u001b[0m         \u001b[0mexplain\u001b[0m \u001b[1;33m=\u001b[0m \u001b[0mgetmsg\u001b[0m\u001b[1;33m(\u001b[0m\u001b[1;34m\"EXPLAIN\"\u001b[0m\u001b[1;33m,\u001b[0m \u001b[1;36m100\u001b[0m\u001b[1;33m)\u001b[0m\u001b[1;33m.\u001b[0m\u001b[0mstrip\u001b[0m\u001b[1;33m(\u001b[0m\u001b[1;33m)\u001b[0m\u001b[1;33m\u001b[0m\u001b[1;33m\u001b[0m\u001b[0m\n\u001b[0;32m    119\u001b[0m         \u001b[0mlong\u001b[0m \u001b[1;33m=\u001b[0m \u001b[0mgetmsg\u001b[0m\u001b[1;33m(\u001b[0m\u001b[1;34m\"LONG\"\u001b[0m\u001b[1;33m,\u001b[0m \u001b[1;36m1841\u001b[0m\u001b[1;33m)\u001b[0m\u001b[1;33m.\u001b[0m\u001b[0mstrip\u001b[0m\u001b[1;33m(\u001b[0m\u001b[1;33m)\u001b[0m\u001b[1;33m\u001b[0m\u001b[1;33m\u001b[0m\u001b[0m\n\u001b[0;32m    120\u001b[0m         \u001b[0mtraceback\u001b[0m \u001b[1;33m=\u001b[0m \u001b[0mqcktrc\u001b[0m\u001b[1;33m(\u001b[0m\u001b[1;36m200\u001b[0m\u001b[1;33m)\u001b[0m\u001b[1;33m\u001b[0m\u001b[1;33m\u001b[0m\u001b[0m\n\u001b[0;32m    121\u001b[0m         \u001b[0mreset\u001b[0m\u001b[1;33m(\u001b[0m\u001b[1;33m)\u001b[0m\u001b[1;33m\u001b[0m\u001b[1;33m\u001b[0m\u001b[0m\n\u001b[1;32m--> 122\u001b[1;33m         raise dynamically_instantiate_spiceyerror(\n\u001b[0m\u001b[0;32m    123\u001b[0m             \u001b[0mshort\u001b[0m\u001b[1;33m=\u001b[0m\u001b[0mshort\u001b[0m\u001b[1;33m,\u001b[0m \u001b[0mexplain\u001b[0m\u001b[1;33m=\u001b[0m\u001b[0mexplain\u001b[0m\u001b[1;33m,\u001b[0m \u001b[0mlong\u001b[0m\u001b[1;33m=\u001b[0m\u001b[0mlong\u001b[0m\u001b[1;33m,\u001b[0m \u001b[0mtraceback\u001b[0m\u001b[1;33m=\u001b[0m\u001b[0mtraceback\u001b[0m\u001b[1;33m\u001b[0m\u001b[1;33m\u001b[0m\u001b[0m\n\u001b[0;32m    124\u001b[0m         \u001b[1;33m)\u001b[0m\u001b[1;33m\u001b[0m\u001b[1;33m\u001b[0m\u001b[0m\n",
      "\u001b[1;31mSpiceIDCODENOTFOUND\u001b[0m: \n================================================================================\n\nToolkit version: CSPICE_N0067\n\nSPICE(IDCODENOTFOUND) --\n\nThe target, '-96: SOLAR PROBE PLUS', is not a recognized name for an ephemeris object. The cause of this problem may be that you need an updated version of the SPICE toolkit. Alternatively you may call SPKEZP directly if you know the SPICE id-codes for both '-96: SOLAR PROBE PLUS' and 'SUN'\n\nspkpos_c --> SPKPOS\n\n================================================================================"
     ]
    }
   ],
   "source": [
    "PSP_ID = \"-96: SOLAR PROBE PLUS\"  # Replace with actual ID found\n",
    "\n",
    "positions = [spice.spkpos(PSP_ID, et, \"ECLIPJ2000\", \"NONE\", \"SUN\")[0] for et in et_times]\n"
   ]
  },
  {
   "cell_type": "code",
   "execution_count": 19,
   "id": "cb1f65d0-7db1-4939-8cf9-68487c621659",
   "metadata": {},
   "outputs": [
    {
     "ename": "SpiceIDCODENOTFOUND",
     "evalue": "\n================================================================================\n\nToolkit version: CSPICE_N0067\n\nSPICE(IDCODENOTFOUND) --\n\nThe target, '-96: SOLAR PROBE PLUS', is not a recognized name for an ephemeris object. The cause of this problem may be that you need an updated version of the SPICE toolkit. Alternatively you may call SPKEZP directly if you know the SPICE id-codes for both '-96: SOLAR PROBE PLUS' and 'SUN'\n\nspkpos_c --> SPKPOS\n\n================================================================================",
     "output_type": "error",
     "traceback": [
      "\u001b[1;31m---------------------------------------------------------------------------\u001b[0m",
      "\u001b[1;31mSpiceIDCODENOTFOUND\u001b[0m                       Traceback (most recent call last)",
      "\u001b[1;32m~\\AppData\\Local\\Temp\\1\\ipykernel_17124\\2182617107.py\u001b[0m in \u001b[0;36m?\u001b[1;34m()\u001b[0m\n\u001b[0;32m     12\u001b[0m \u001b[1;31m# ✅ Use the correct NAIF ID found in Step 2\u001b[0m\u001b[1;33m\u001b[0m\u001b[1;33m\u001b[0m\u001b[0m\n\u001b[0;32m     13\u001b[0m \u001b[0mPSP_ID\u001b[0m \u001b[1;33m=\u001b[0m \u001b[1;34m\"-96: SOLAR PROBE PLUS\"\u001b[0m  \u001b[1;31m# Update this if a different ID is found\u001b[0m\u001b[1;33m\u001b[0m\u001b[1;33m\u001b[0m\u001b[0m\n\u001b[0;32m     14\u001b[0m \u001b[1;33m\u001b[0m\u001b[0m\n\u001b[0;32m     15\u001b[0m \u001b[1;31m# Compute PSP's position relative to the Sun\u001b[0m\u001b[1;33m\u001b[0m\u001b[1;33m\u001b[0m\u001b[0m\n\u001b[1;32m---> 16\u001b[1;33m \u001b[0mpositions\u001b[0m \u001b[1;33m=\u001b[0m \u001b[1;33m[\u001b[0m\u001b[0mspice\u001b[0m\u001b[1;33m.\u001b[0m\u001b[0mspkpos\u001b[0m\u001b[1;33m(\u001b[0m\u001b[0mPSP_ID\u001b[0m\u001b[1;33m,\u001b[0m \u001b[0met\u001b[0m\u001b[1;33m,\u001b[0m \u001b[1;34m\"ECLIPJ2000\"\u001b[0m\u001b[1;33m,\u001b[0m \u001b[1;34m\"NONE\"\u001b[0m\u001b[1;33m,\u001b[0m \u001b[1;34m\"SUN\"\u001b[0m\u001b[1;33m)\u001b[0m\u001b[1;33m[\u001b[0m\u001b[1;36m0\u001b[0m\u001b[1;33m]\u001b[0m \u001b[1;32mfor\u001b[0m \u001b[0met\u001b[0m \u001b[1;32min\u001b[0m \u001b[0met_times\u001b[0m\u001b[1;33m]\u001b[0m\u001b[1;33m\u001b[0m\u001b[1;33m\u001b[0m\u001b[0m\n\u001b[0m\u001b[0;32m     17\u001b[0m \u001b[1;33m\u001b[0m\u001b[0m\n\u001b[0;32m     18\u001b[0m \u001b[1;31m# Convert to DataFrame\u001b[0m\u001b[1;33m\u001b[0m\u001b[1;33m\u001b[0m\u001b[0m\n\u001b[0;32m     19\u001b[0m df = pd.DataFrame({\n",
      "\u001b[1;32m~\\AppData\\Local\\miniconda3\\envs\\heart\\Lib\\site-packages\\spiceypy\\spiceypy.py\u001b[0m in \u001b[0;36m?\u001b[1;34m(*args, **kwargs)\u001b[0m\n\u001b[0;32m    138\u001b[0m             \u001b[0mres\u001b[0m \u001b[1;33m=\u001b[0m \u001b[0mf\u001b[0m\u001b[1;33m(\u001b[0m\u001b[1;33m*\u001b[0m\u001b[0margs\u001b[0m\u001b[1;33m,\u001b[0m \u001b[1;33m**\u001b[0m\u001b[0mkwargs\u001b[0m\u001b[1;33m)\u001b[0m\u001b[1;33m\u001b[0m\u001b[1;33m\u001b[0m\u001b[0m\n\u001b[0;32m    139\u001b[0m             \u001b[0mcheck_for_spice_error\u001b[0m\u001b[1;33m(\u001b[0m\u001b[0mf\u001b[0m\u001b[1;33m)\u001b[0m\u001b[1;33m\u001b[0m\u001b[1;33m\u001b[0m\u001b[0m\n\u001b[0;32m    140\u001b[0m             \u001b[1;32mreturn\u001b[0m \u001b[0mres\u001b[0m\u001b[1;33m\u001b[0m\u001b[1;33m\u001b[0m\u001b[0m\n\u001b[0;32m    141\u001b[0m         \u001b[1;32mexcept\u001b[0m \u001b[0mBaseException\u001b[0m\u001b[1;33m:\u001b[0m\u001b[1;33m\u001b[0m\u001b[1;33m\u001b[0m\u001b[0m\n\u001b[1;32m--> 142\u001b[1;33m             \u001b[1;32mraise\u001b[0m\u001b[1;33m\u001b[0m\u001b[1;33m\u001b[0m\u001b[0m\n\u001b[0m",
      "\u001b[1;32m~\\AppData\\Local\\miniconda3\\envs\\heart\\Lib\\site-packages\\spiceypy\\spiceypy.py\u001b[0m in \u001b[0;36m?\u001b[1;34m(f)\u001b[0m\n\u001b[0;32m    118\u001b[0m         \u001b[0mexplain\u001b[0m \u001b[1;33m=\u001b[0m \u001b[0mgetmsg\u001b[0m\u001b[1;33m(\u001b[0m\u001b[1;34m\"EXPLAIN\"\u001b[0m\u001b[1;33m,\u001b[0m \u001b[1;36m100\u001b[0m\u001b[1;33m)\u001b[0m\u001b[1;33m.\u001b[0m\u001b[0mstrip\u001b[0m\u001b[1;33m(\u001b[0m\u001b[1;33m)\u001b[0m\u001b[1;33m\u001b[0m\u001b[1;33m\u001b[0m\u001b[0m\n\u001b[0;32m    119\u001b[0m         \u001b[0mlong\u001b[0m \u001b[1;33m=\u001b[0m \u001b[0mgetmsg\u001b[0m\u001b[1;33m(\u001b[0m\u001b[1;34m\"LONG\"\u001b[0m\u001b[1;33m,\u001b[0m \u001b[1;36m1841\u001b[0m\u001b[1;33m)\u001b[0m\u001b[1;33m.\u001b[0m\u001b[0mstrip\u001b[0m\u001b[1;33m(\u001b[0m\u001b[1;33m)\u001b[0m\u001b[1;33m\u001b[0m\u001b[1;33m\u001b[0m\u001b[0m\n\u001b[0;32m    120\u001b[0m         \u001b[0mtraceback\u001b[0m \u001b[1;33m=\u001b[0m \u001b[0mqcktrc\u001b[0m\u001b[1;33m(\u001b[0m\u001b[1;36m200\u001b[0m\u001b[1;33m)\u001b[0m\u001b[1;33m\u001b[0m\u001b[1;33m\u001b[0m\u001b[0m\n\u001b[0;32m    121\u001b[0m         \u001b[0mreset\u001b[0m\u001b[1;33m(\u001b[0m\u001b[1;33m)\u001b[0m\u001b[1;33m\u001b[0m\u001b[1;33m\u001b[0m\u001b[0m\n\u001b[1;32m--> 122\u001b[1;33m         raise dynamically_instantiate_spiceyerror(\n\u001b[0m\u001b[0;32m    123\u001b[0m             \u001b[0mshort\u001b[0m\u001b[1;33m=\u001b[0m\u001b[0mshort\u001b[0m\u001b[1;33m,\u001b[0m \u001b[0mexplain\u001b[0m\u001b[1;33m=\u001b[0m\u001b[0mexplain\u001b[0m\u001b[1;33m,\u001b[0m \u001b[0mlong\u001b[0m\u001b[1;33m=\u001b[0m\u001b[0mlong\u001b[0m\u001b[1;33m,\u001b[0m \u001b[0mtraceback\u001b[0m\u001b[1;33m=\u001b[0m\u001b[0mtraceback\u001b[0m\u001b[1;33m\u001b[0m\u001b[1;33m\u001b[0m\u001b[0m\n\u001b[0;32m    124\u001b[0m         \u001b[1;33m)\u001b[0m\u001b[1;33m\u001b[0m\u001b[1;33m\u001b[0m\u001b[0m\n",
      "\u001b[1;31mSpiceIDCODENOTFOUND\u001b[0m: \n================================================================================\n\nToolkit version: CSPICE_N0067\n\nSPICE(IDCODENOTFOUND) --\n\nThe target, '-96: SOLAR PROBE PLUS', is not a recognized name for an ephemeris object. The cause of this problem may be that you need an updated version of the SPICE toolkit. Alternatively you may call SPKEZP directly if you know the SPICE id-codes for both '-96: SOLAR PROBE PLUS' and 'SUN'\n\nspkpos_c --> SPKPOS\n\n================================================================================"
     ]
    }
   ],
   "source": [
    "from datetime import datetime, timedelta\n",
    "import pandas as pd\n",
    "\n",
    "# Generate date range (1-day increments)\n",
    "start_date = datetime(2018, 1, 1)\n",
    "end_date = datetime(2025, 12, 31)\n",
    "dates = [start_date + timedelta(days=i) for i in range((end_date - start_date).days + 1)]\n",
    "\n",
    "# Convert dates to Ephemeris Time (ET)\n",
    "et_times = [spice.str2et(date.strftime(\"%Y-%m-%d\")) for date in dates]\n",
    "\n",
    "# ✅ Use the correct NAIF ID found in Step 2\n",
    "PSP_ID = \"-96: SOLAR PROBE PLUS\"  # Update this if a different ID is found\n",
    "\n",
    "# Compute PSP's position relative to the Sun\n",
    "positions = [spice.spkpos(PSP_ID, et, \"ECLIPJ2000\", \"NONE\", \"SUN\")[0] for et in et_times]\n",
    "\n",
    "# Convert to DataFrame\n",
    "df = pd.DataFrame({\n",
    "    \"date\": dates,\n",
    "    \"x\": [pos[0] / 1.496e+8 for pos in positions],  # Convert km to AU\n",
    "    \"y\": [pos[1] / 1.496e+8 for pos in positions],\n",
    "    \"z\": [pos[2] / 1.496e+8 for pos in positions],\n",
    "})\n",
    "\n",
    "print(df.head())\n",
    "\n",
    "# Unload SPICE kernels\n",
    "spice.kclear()\n"
   ]
  },
  {
   "cell_type": "code",
   "execution_count": null,
   "id": "50276eac-ab40-41bb-94f8-a41d027ee418",
   "metadata": {},
   "outputs": [],
   "source": []
  },
  {
   "cell_type": "code",
   "execution_count": null,
   "id": "67ce6585-287a-43fd-a530-99e5e94aabbe",
   "metadata": {},
   "outputs": [],
   "source": []
  },
  {
   "cell_type": "code",
   "execution_count": null,
   "id": "32d6ccac-e254-4569-a222-c98d2cefb4ea",
   "metadata": {},
   "outputs": [],
   "source": []
  },
  {
   "cell_type": "code",
   "execution_count": null,
   "id": "fe64b52a-e1af-48d8-9ec1-62ba134beaeb",
   "metadata": {},
   "outputs": [],
   "source": []
  },
  {
   "cell_type": "code",
   "execution_count": 9,
   "id": "70714884-844e-4d56-9d8e-588e8cf608b4",
   "metadata": {},
   "outputs": [
    {
     "ename": "SpiceNOSUCHFILE",
     "evalue": "\n================================================================================\n\nToolkit version: CSPICE_N0067\n\nSPICE(NOSUCHFILE) --\n\nThe attempt to load \"spice_kernels/psp_rec.bsp\" by the routine FURNSH failed. It could not be located.\n\nfurnsh_c --> FURNSH --> ZZLDKER\n\n================================================================================",
     "output_type": "error",
     "traceback": [
      "\u001b[1;31m---------------------------------------------------------------------------\u001b[0m",
      "\u001b[1;31mSpiceNOSUCHFILE\u001b[0m                           Traceback (most recent call last)",
      "\u001b[1;32m~\\AppData\\Local\\Temp\\1\\ipykernel_17124\\4058171683.py\u001b[0m in \u001b[0;36m?\u001b[1;34m()\u001b[0m\n\u001b[0;32m      5\u001b[0m \u001b[1;33m\u001b[0m\u001b[0m\n\u001b[0;32m      6\u001b[0m \u001b[1;31m# Load SPICE kernels (Update the paths if necessary)\u001b[0m\u001b[1;33m\u001b[0m\u001b[1;33m\u001b[0m\u001b[0m\n\u001b[0;32m      7\u001b[0m \u001b[0mspice\u001b[0m\u001b[1;33m.\u001b[0m\u001b[0mfurnsh\u001b[0m\u001b[1;33m(\u001b[0m\u001b[1;34m\"spice_kernels/naif0012.tls\"\u001b[0m\u001b[1;33m)\u001b[0m  \u001b[1;31m# Leap seconds\u001b[0m\u001b[1;33m\u001b[0m\u001b[1;33m\u001b[0m\u001b[0m\n\u001b[0;32m      8\u001b[0m \u001b[0mspice\u001b[0m\u001b[1;33m.\u001b[0m\u001b[0mfurnsh\u001b[0m\u001b[1;33m(\u001b[0m\u001b[1;34m\"spice_kernels/de440s.bsp\"\u001b[0m\u001b[1;33m)\u001b[0m    \u001b[1;31m# Planetary ephemeris\u001b[0m\u001b[1;33m\u001b[0m\u001b[1;33m\u001b[0m\u001b[0m\n\u001b[1;32m----> 9\u001b[1;33m \u001b[0mspice\u001b[0m\u001b[1;33m.\u001b[0m\u001b[0mfurnsh\u001b[0m\u001b[1;33m(\u001b[0m\u001b[1;34m\"spice_kernels/psp_rec.bsp\"\u001b[0m\u001b[1;33m)\u001b[0m   \u001b[1;31m# Parker Solar Probe trajectory\u001b[0m\u001b[1;33m\u001b[0m\u001b[1;33m\u001b[0m\u001b[0m\n\u001b[0m\u001b[0;32m     10\u001b[0m \u001b[1;33m\u001b[0m\u001b[0m\n\u001b[0;32m     11\u001b[0m \u001b[1;31m# Generate date range (1-day increments)\u001b[0m\u001b[1;33m\u001b[0m\u001b[1;33m\u001b[0m\u001b[0m\n\u001b[0;32m     12\u001b[0m \u001b[0mstart_date\u001b[0m \u001b[1;33m=\u001b[0m \u001b[0mdatetime\u001b[0m\u001b[1;33m(\u001b[0m\u001b[1;36m2018\u001b[0m\u001b[1;33m,\u001b[0m \u001b[1;36m1\u001b[0m\u001b[1;33m,\u001b[0m \u001b[1;36m1\u001b[0m\u001b[1;33m)\u001b[0m\u001b[1;33m\u001b[0m\u001b[1;33m\u001b[0m\u001b[0m\n",
      "\u001b[1;32m~\\AppData\\Local\\miniconda3\\envs\\heart\\Lib\\site-packages\\spiceypy\\spiceypy.py\u001b[0m in \u001b[0;36m?\u001b[1;34m(*args, **kwargs)\u001b[0m\n\u001b[0;32m    138\u001b[0m             \u001b[0mres\u001b[0m \u001b[1;33m=\u001b[0m \u001b[0mf\u001b[0m\u001b[1;33m(\u001b[0m\u001b[1;33m*\u001b[0m\u001b[0margs\u001b[0m\u001b[1;33m,\u001b[0m \u001b[1;33m**\u001b[0m\u001b[0mkwargs\u001b[0m\u001b[1;33m)\u001b[0m\u001b[1;33m\u001b[0m\u001b[1;33m\u001b[0m\u001b[0m\n\u001b[0;32m    139\u001b[0m             \u001b[0mcheck_for_spice_error\u001b[0m\u001b[1;33m(\u001b[0m\u001b[0mf\u001b[0m\u001b[1;33m)\u001b[0m\u001b[1;33m\u001b[0m\u001b[1;33m\u001b[0m\u001b[0m\n\u001b[0;32m    140\u001b[0m             \u001b[1;32mreturn\u001b[0m \u001b[0mres\u001b[0m\u001b[1;33m\u001b[0m\u001b[1;33m\u001b[0m\u001b[0m\n\u001b[0;32m    141\u001b[0m         \u001b[1;32mexcept\u001b[0m \u001b[0mBaseException\u001b[0m\u001b[1;33m:\u001b[0m\u001b[1;33m\u001b[0m\u001b[1;33m\u001b[0m\u001b[0m\n\u001b[1;32m--> 142\u001b[1;33m             \u001b[1;32mraise\u001b[0m\u001b[1;33m\u001b[0m\u001b[1;33m\u001b[0m\u001b[0m\n\u001b[0m",
      "\u001b[1;32m~\\AppData\\Local\\miniconda3\\envs\\heart\\Lib\\site-packages\\spiceypy\\spiceypy.py\u001b[0m in \u001b[0;36m?\u001b[1;34m(f)\u001b[0m\n\u001b[0;32m    118\u001b[0m         \u001b[0mexplain\u001b[0m \u001b[1;33m=\u001b[0m \u001b[0mgetmsg\u001b[0m\u001b[1;33m(\u001b[0m\u001b[1;34m\"EXPLAIN\"\u001b[0m\u001b[1;33m,\u001b[0m \u001b[1;36m100\u001b[0m\u001b[1;33m)\u001b[0m\u001b[1;33m.\u001b[0m\u001b[0mstrip\u001b[0m\u001b[1;33m(\u001b[0m\u001b[1;33m)\u001b[0m\u001b[1;33m\u001b[0m\u001b[1;33m\u001b[0m\u001b[0m\n\u001b[0;32m    119\u001b[0m         \u001b[0mlong\u001b[0m \u001b[1;33m=\u001b[0m \u001b[0mgetmsg\u001b[0m\u001b[1;33m(\u001b[0m\u001b[1;34m\"LONG\"\u001b[0m\u001b[1;33m,\u001b[0m \u001b[1;36m1841\u001b[0m\u001b[1;33m)\u001b[0m\u001b[1;33m.\u001b[0m\u001b[0mstrip\u001b[0m\u001b[1;33m(\u001b[0m\u001b[1;33m)\u001b[0m\u001b[1;33m\u001b[0m\u001b[1;33m\u001b[0m\u001b[0m\n\u001b[0;32m    120\u001b[0m         \u001b[0mtraceback\u001b[0m \u001b[1;33m=\u001b[0m \u001b[0mqcktrc\u001b[0m\u001b[1;33m(\u001b[0m\u001b[1;36m200\u001b[0m\u001b[1;33m)\u001b[0m\u001b[1;33m\u001b[0m\u001b[1;33m\u001b[0m\u001b[0m\n\u001b[0;32m    121\u001b[0m         \u001b[0mreset\u001b[0m\u001b[1;33m(\u001b[0m\u001b[1;33m)\u001b[0m\u001b[1;33m\u001b[0m\u001b[1;33m\u001b[0m\u001b[0m\n\u001b[1;32m--> 122\u001b[1;33m         raise dynamically_instantiate_spiceyerror(\n\u001b[0m\u001b[0;32m    123\u001b[0m             \u001b[0mshort\u001b[0m\u001b[1;33m=\u001b[0m\u001b[0mshort\u001b[0m\u001b[1;33m,\u001b[0m \u001b[0mexplain\u001b[0m\u001b[1;33m=\u001b[0m\u001b[0mexplain\u001b[0m\u001b[1;33m,\u001b[0m \u001b[0mlong\u001b[0m\u001b[1;33m=\u001b[0m\u001b[0mlong\u001b[0m\u001b[1;33m,\u001b[0m \u001b[0mtraceback\u001b[0m\u001b[1;33m=\u001b[0m\u001b[0mtraceback\u001b[0m\u001b[1;33m\u001b[0m\u001b[1;33m\u001b[0m\u001b[0m\n\u001b[0;32m    124\u001b[0m         \u001b[1;33m)\u001b[0m\u001b[1;33m\u001b[0m\u001b[1;33m\u001b[0m\u001b[0m\n",
      "\u001b[1;31mSpiceNOSUCHFILE\u001b[0m: \n================================================================================\n\nToolkit version: CSPICE_N0067\n\nSPICE(NOSUCHFILE) --\n\nThe attempt to load \"spice_kernels/psp_rec.bsp\" by the routine FURNSH failed. It could not be located.\n\nfurnsh_c --> FURNSH --> ZZLDKER\n\n================================================================================"
     ]
    }
   ],
   "source": [
    "import spiceypy as spice\n",
    "import numpy as np\n",
    "import pandas as pd\n",
    "from datetime import datetime, timedelta\n",
    "\n",
    "# Load SPICE kernels (Update the paths if necessary)\n",
    "spice.furnsh(\"spice_kernels/naif0012.tls\")  # Leap seconds\n",
    "spice.furnsh(\"spice_kernels/de440s.bsp\")    # Planetary ephemeris\n",
    "spice.furnsh(\"spice_kernels/psp_rec.bsp\")   # Parker Solar Probe trajectory\n",
    "\n",
    "# Generate date range (1-day increments)\n",
    "start_date = datetime(2018, 1, 1)\n",
    "end_date = datetime(2025, 12, 31)\n",
    "dates = [start_date + timedelta(days=i) for i in range((end_date - start_date).days + 1)]\n",
    "\n",
    "# Convert dates to Ephemeris Time (ET)\n",
    "et_times = [spice.str2et(date.strftime(\"%Y-%m-%d\")) for date in dates]\n",
    "\n",
    "# Compute PSP’s position relative to the Sun\n",
    "positions = [spice.spkpos(\"PSP\", et, \"ECLIPJ2000\", \"NONE\", \"SUN\")[0] for et in et_times]\n",
    "\n",
    "# Convert to Pandas DataFrame\n",
    "df = pd.DataFrame({\n",
    "    \"date\": dates,\n",
    "    \"x\": [pos[0] / 1.496e+8 for pos in positions],  # Convert km to AU\n",
    "    \"y\": [pos[1] / 1.496e+8 for pos in positions],\n",
    "    \"z\": [pos[2] / 1.496e+8 for pos in positions],\n",
    "})\n",
    "\n",
    "# Print sample data\n",
    "print(df.head())\n",
    "\n",
    "# Unload SPICE kernels\n",
    "spice.kclear()\n"
   ]
  },
  {
   "cell_type": "code",
   "execution_count": 10,
   "id": "92a15925-9685-4fb9-a6a3-f39186ed4a17",
   "metadata": {
    "scrolled": true
   },
   "outputs": [
    {
     "ename": "SpiceIDCODENOTFOUND",
     "evalue": "\n================================================================================\n\nToolkit version: CSPICE_N0067\n\nSPICE(IDCODENOTFOUND) --\n\nThe target, 'PSP', is not a recognized name for an ephemeris object. The cause of this problem may be that you need an updated version of the SPICE toolkit. Alternatively you may call SPKEZP directly if you know the SPICE id-codes for both 'PSP' and 'SUN'\n\nspkpos_c --> SPKPOS\n\n================================================================================",
     "output_type": "error",
     "traceback": [
      "\u001b[1;31m---------------------------------------------------------------------------\u001b[0m",
      "\u001b[1;31mSpiceIDCODENOTFOUND\u001b[0m                       Traceback (most recent call last)",
      "\u001b[1;32m~\\AppData\\Local\\Temp\\1\\ipykernel_17124\\2528321139.py\u001b[0m in \u001b[0;36m?\u001b[1;34m()\u001b[0m\n\u001b[0;32m     14\u001b[0m \u001b[1;31m# Convert dates to ET (Ephemeris Time)\u001b[0m\u001b[1;33m\u001b[0m\u001b[1;33m\u001b[0m\u001b[0m\n\u001b[0;32m     15\u001b[0m \u001b[0met_times\u001b[0m \u001b[1;33m=\u001b[0m \u001b[1;33m[\u001b[0m\u001b[0mspice\u001b[0m\u001b[1;33m.\u001b[0m\u001b[0mstr2et\u001b[0m\u001b[1;33m(\u001b[0m\u001b[0mdate\u001b[0m\u001b[1;33m.\u001b[0m\u001b[0mstrftime\u001b[0m\u001b[1;33m(\u001b[0m\u001b[1;34m\"%Y-%m-%d\"\u001b[0m\u001b[1;33m)\u001b[0m\u001b[1;33m)\u001b[0m \u001b[1;32mfor\u001b[0m \u001b[0mdate\u001b[0m \u001b[1;32min\u001b[0m \u001b[0mdates\u001b[0m\u001b[1;33m]\u001b[0m\u001b[1;33m\u001b[0m\u001b[1;33m\u001b[0m\u001b[0m\n\u001b[0;32m     16\u001b[0m \u001b[1;33m\u001b[0m\u001b[0m\n\u001b[0;32m     17\u001b[0m \u001b[1;31m# Compute PSP's position relative to the Sun\u001b[0m\u001b[1;33m\u001b[0m\u001b[1;33m\u001b[0m\u001b[0m\n\u001b[1;32m---> 18\u001b[1;33m \u001b[0mpositions\u001b[0m \u001b[1;33m=\u001b[0m \u001b[1;33m[\u001b[0m\u001b[0mspice\u001b[0m\u001b[1;33m.\u001b[0m\u001b[0mspkpos\u001b[0m\u001b[1;33m(\u001b[0m\u001b[1;34m\"PSP\"\u001b[0m\u001b[1;33m,\u001b[0m \u001b[0met\u001b[0m\u001b[1;33m,\u001b[0m \u001b[1;34m\"ECLIPJ2000\"\u001b[0m\u001b[1;33m,\u001b[0m \u001b[1;34m\"NONE\"\u001b[0m\u001b[1;33m,\u001b[0m \u001b[1;34m\"SUN\"\u001b[0m\u001b[1;33m)\u001b[0m\u001b[1;33m[\u001b[0m\u001b[1;36m0\u001b[0m\u001b[1;33m]\u001b[0m \u001b[1;32mfor\u001b[0m \u001b[0met\u001b[0m \u001b[1;32min\u001b[0m \u001b[0met_times\u001b[0m\u001b[1;33m]\u001b[0m\u001b[1;33m\u001b[0m\u001b[1;33m\u001b[0m\u001b[0m\n\u001b[0m\u001b[0;32m     19\u001b[0m \u001b[1;33m\u001b[0m\u001b[0m\n\u001b[0;32m     20\u001b[0m \u001b[1;31m# Convert to DataFrame\u001b[0m\u001b[1;33m\u001b[0m\u001b[1;33m\u001b[0m\u001b[0m\n\u001b[0;32m     21\u001b[0m df = pd.DataFrame({\n",
      "\u001b[1;32m~\\AppData\\Local\\miniconda3\\envs\\heart\\Lib\\site-packages\\spiceypy\\spiceypy.py\u001b[0m in \u001b[0;36m?\u001b[1;34m(*args, **kwargs)\u001b[0m\n\u001b[0;32m    138\u001b[0m             \u001b[0mres\u001b[0m \u001b[1;33m=\u001b[0m \u001b[0mf\u001b[0m\u001b[1;33m(\u001b[0m\u001b[1;33m*\u001b[0m\u001b[0margs\u001b[0m\u001b[1;33m,\u001b[0m \u001b[1;33m**\u001b[0m\u001b[0mkwargs\u001b[0m\u001b[1;33m)\u001b[0m\u001b[1;33m\u001b[0m\u001b[1;33m\u001b[0m\u001b[0m\n\u001b[0;32m    139\u001b[0m             \u001b[0mcheck_for_spice_error\u001b[0m\u001b[1;33m(\u001b[0m\u001b[0mf\u001b[0m\u001b[1;33m)\u001b[0m\u001b[1;33m\u001b[0m\u001b[1;33m\u001b[0m\u001b[0m\n\u001b[0;32m    140\u001b[0m             \u001b[1;32mreturn\u001b[0m \u001b[0mres\u001b[0m\u001b[1;33m\u001b[0m\u001b[1;33m\u001b[0m\u001b[0m\n\u001b[0;32m    141\u001b[0m         \u001b[1;32mexcept\u001b[0m \u001b[0mBaseException\u001b[0m\u001b[1;33m:\u001b[0m\u001b[1;33m\u001b[0m\u001b[1;33m\u001b[0m\u001b[0m\n\u001b[1;32m--> 142\u001b[1;33m             \u001b[1;32mraise\u001b[0m\u001b[1;33m\u001b[0m\u001b[1;33m\u001b[0m\u001b[0m\n\u001b[0m",
      "\u001b[1;32m~\\AppData\\Local\\miniconda3\\envs\\heart\\Lib\\site-packages\\spiceypy\\spiceypy.py\u001b[0m in \u001b[0;36m?\u001b[1;34m(f)\u001b[0m\n\u001b[0;32m    118\u001b[0m         \u001b[0mexplain\u001b[0m \u001b[1;33m=\u001b[0m \u001b[0mgetmsg\u001b[0m\u001b[1;33m(\u001b[0m\u001b[1;34m\"EXPLAIN\"\u001b[0m\u001b[1;33m,\u001b[0m \u001b[1;36m100\u001b[0m\u001b[1;33m)\u001b[0m\u001b[1;33m.\u001b[0m\u001b[0mstrip\u001b[0m\u001b[1;33m(\u001b[0m\u001b[1;33m)\u001b[0m\u001b[1;33m\u001b[0m\u001b[1;33m\u001b[0m\u001b[0m\n\u001b[0;32m    119\u001b[0m         \u001b[0mlong\u001b[0m \u001b[1;33m=\u001b[0m \u001b[0mgetmsg\u001b[0m\u001b[1;33m(\u001b[0m\u001b[1;34m\"LONG\"\u001b[0m\u001b[1;33m,\u001b[0m \u001b[1;36m1841\u001b[0m\u001b[1;33m)\u001b[0m\u001b[1;33m.\u001b[0m\u001b[0mstrip\u001b[0m\u001b[1;33m(\u001b[0m\u001b[1;33m)\u001b[0m\u001b[1;33m\u001b[0m\u001b[1;33m\u001b[0m\u001b[0m\n\u001b[0;32m    120\u001b[0m         \u001b[0mtraceback\u001b[0m \u001b[1;33m=\u001b[0m \u001b[0mqcktrc\u001b[0m\u001b[1;33m(\u001b[0m\u001b[1;36m200\u001b[0m\u001b[1;33m)\u001b[0m\u001b[1;33m\u001b[0m\u001b[1;33m\u001b[0m\u001b[0m\n\u001b[0;32m    121\u001b[0m         \u001b[0mreset\u001b[0m\u001b[1;33m(\u001b[0m\u001b[1;33m)\u001b[0m\u001b[1;33m\u001b[0m\u001b[1;33m\u001b[0m\u001b[0m\n\u001b[1;32m--> 122\u001b[1;33m         raise dynamically_instantiate_spiceyerror(\n\u001b[0m\u001b[0;32m    123\u001b[0m             \u001b[0mshort\u001b[0m\u001b[1;33m=\u001b[0m\u001b[0mshort\u001b[0m\u001b[1;33m,\u001b[0m \u001b[0mexplain\u001b[0m\u001b[1;33m=\u001b[0m\u001b[0mexplain\u001b[0m\u001b[1;33m,\u001b[0m \u001b[0mlong\u001b[0m\u001b[1;33m=\u001b[0m\u001b[0mlong\u001b[0m\u001b[1;33m,\u001b[0m \u001b[0mtraceback\u001b[0m\u001b[1;33m=\u001b[0m\u001b[0mtraceback\u001b[0m\u001b[1;33m\u001b[0m\u001b[1;33m\u001b[0m\u001b[0m\n\u001b[0;32m    124\u001b[0m         \u001b[1;33m)\u001b[0m\u001b[1;33m\u001b[0m\u001b[1;33m\u001b[0m\u001b[0m\n",
      "\u001b[1;31mSpiceIDCODENOTFOUND\u001b[0m: \n================================================================================\n\nToolkit version: CSPICE_N0067\n\nSPICE(IDCODENOTFOUND) --\n\nThe target, 'PSP', is not a recognized name for an ephemeris object. The cause of this problem may be that you need an updated version of the SPICE toolkit. Alternatively you may call SPKEZP directly if you know the SPICE id-codes for both 'PSP' and 'SUN'\n\nspkpos_c --> SPKPOS\n\n================================================================================"
     ]
    }
   ],
   "source": [
    "import spiceypy as spice\n",
    "import numpy as np\n",
    "import pandas as pd\n",
    "from datetime import datetime, timedelta\n",
    "\n",
    "# Load the PSP SPICE kernel (update the path)\n",
    "spice.furnsh(\"spice_kernels/psp_pred.bsp\")\n",
    "\n",
    "# Generate date range from 2018 to 2025 in 1-day increments\n",
    "start_date = datetime(2018, 1, 1)\n",
    "end_date = datetime(2025, 12, 31)\n",
    "dates = [start_date + timedelta(days=i) for i in range((end_date - start_date).days + 1)]\n",
    "\n",
    "# Convert dates to ET (Ephemeris Time)\n",
    "et_times = [spice.str2et(date.strftime(\"%Y-%m-%d\")) for date in dates]\n",
    "\n",
    "# Compute PSP's position relative to the Sun\n",
    "positions = [spice.spkpos(\"PSP\", et, \"ECLIPJ2000\", \"NONE\", \"SUN\")[0] for et in et_times]\n",
    "\n",
    "# Convert to DataFrame\n",
    "df = pd.DataFrame({\n",
    "    \"date\": dates,\n",
    "    \"x\": [pos[0] / 1.496e+8 for pos in positions],  # Convert km to AU\n",
    "    \"y\": [pos[1] / 1.496e+8 for pos in positions],\n",
    "    \"z\": [pos[2] / 1.496e+8 for pos in positions],\n",
    "})\n",
    "\n",
    "# Print sample data\n",
    "print(df.head())\n",
    "\n",
    "# Unload SPICE kernels\n",
    "spice.kclear()\n"
   ]
  },
  {
   "cell_type": "code",
   "execution_count": 6,
   "id": "6e2382c3-72cb-4d1d-ba7e-eb54267c54ab",
   "metadata": {},
   "outputs": [
    {
     "ename": "SpiceIDCODENOTFOUND",
     "evalue": "\n================================================================================\n\nToolkit version: CSPICE_N0067\n\nSPICE(IDCODENOTFOUND) --\n\nThe target, 'PSP', is not a recognized name for an ephemeris object. The cause of this problem may be that you need an updated version of the SPICE toolkit. Alternatively you may call SPKEZP directly if you know the SPICE id-codes for both 'PSP' and 'SUN'\n\nspkpos_c --> SPKPOS\n\n================================================================================",
     "output_type": "error",
     "traceback": [
      "\u001b[1;31m---------------------------------------------------------------------------\u001b[0m",
      "\u001b[1;31mSpiceIDCODENOTFOUND\u001b[0m                       Traceback (most recent call last)",
      "\u001b[1;32m~\\AppData\\Local\\Temp\\1\\ipykernel_17124\\720777321.py\u001b[0m in \u001b[0;36m?\u001b[1;34m()\u001b[0m\n\u001b[0;32m     16\u001b[0m \u001b[1;31m# Convert dates to Ephemeris Time (ET)\u001b[0m\u001b[1;33m\u001b[0m\u001b[1;33m\u001b[0m\u001b[0m\n\u001b[0;32m     17\u001b[0m \u001b[0met_times\u001b[0m \u001b[1;33m=\u001b[0m \u001b[1;33m[\u001b[0m\u001b[0mspice\u001b[0m\u001b[1;33m.\u001b[0m\u001b[0mstr2et\u001b[0m\u001b[1;33m(\u001b[0m\u001b[0mdate\u001b[0m\u001b[1;33m.\u001b[0m\u001b[0mstrftime\u001b[0m\u001b[1;33m(\u001b[0m\u001b[1;34m\"%Y-%m-%d\"\u001b[0m\u001b[1;33m)\u001b[0m\u001b[1;33m)\u001b[0m \u001b[1;32mfor\u001b[0m \u001b[0mdate\u001b[0m \u001b[1;32min\u001b[0m \u001b[0mdates\u001b[0m\u001b[1;33m]\u001b[0m\u001b[1;33m\u001b[0m\u001b[1;33m\u001b[0m\u001b[0m\n\u001b[0;32m     18\u001b[0m \u001b[1;33m\u001b[0m\u001b[0m\n\u001b[0;32m     19\u001b[0m \u001b[1;31m# Compute PSP’s position relative to the Sun\u001b[0m\u001b[1;33m\u001b[0m\u001b[1;33m\u001b[0m\u001b[0m\n\u001b[1;32m---> 20\u001b[1;33m \u001b[0mpositions\u001b[0m \u001b[1;33m=\u001b[0m \u001b[1;33m[\u001b[0m\u001b[0mspice\u001b[0m\u001b[1;33m.\u001b[0m\u001b[0mspkpos\u001b[0m\u001b[1;33m(\u001b[0m\u001b[1;34m\"PSP\"\u001b[0m\u001b[1;33m,\u001b[0m \u001b[0met\u001b[0m\u001b[1;33m,\u001b[0m \u001b[1;34m\"ECLIPJ2000\"\u001b[0m\u001b[1;33m,\u001b[0m \u001b[1;34m\"NONE\"\u001b[0m\u001b[1;33m,\u001b[0m \u001b[1;34m\"SUN\"\u001b[0m\u001b[1;33m)\u001b[0m\u001b[1;33m[\u001b[0m\u001b[1;36m0\u001b[0m\u001b[1;33m]\u001b[0m \u001b[1;32mfor\u001b[0m \u001b[0met\u001b[0m \u001b[1;32min\u001b[0m \u001b[0met_times\u001b[0m\u001b[1;33m]\u001b[0m\u001b[1;33m\u001b[0m\u001b[1;33m\u001b[0m\u001b[0m\n\u001b[0m\u001b[0;32m     21\u001b[0m \u001b[1;33m\u001b[0m\u001b[0m\n\u001b[0;32m     22\u001b[0m \u001b[1;31m# Convert to Pandas DataFrame\u001b[0m\u001b[1;33m\u001b[0m\u001b[1;33m\u001b[0m\u001b[0m\n\u001b[0;32m     23\u001b[0m df = pd.DataFrame({\n",
      "\u001b[1;32m~\\AppData\\Local\\miniconda3\\envs\\heart\\Lib\\site-packages\\spiceypy\\spiceypy.py\u001b[0m in \u001b[0;36m?\u001b[1;34m(*args, **kwargs)\u001b[0m\n\u001b[0;32m    138\u001b[0m             \u001b[0mres\u001b[0m \u001b[1;33m=\u001b[0m \u001b[0mf\u001b[0m\u001b[1;33m(\u001b[0m\u001b[1;33m*\u001b[0m\u001b[0margs\u001b[0m\u001b[1;33m,\u001b[0m \u001b[1;33m**\u001b[0m\u001b[0mkwargs\u001b[0m\u001b[1;33m)\u001b[0m\u001b[1;33m\u001b[0m\u001b[1;33m\u001b[0m\u001b[0m\n\u001b[0;32m    139\u001b[0m             \u001b[0mcheck_for_spice_error\u001b[0m\u001b[1;33m(\u001b[0m\u001b[0mf\u001b[0m\u001b[1;33m)\u001b[0m\u001b[1;33m\u001b[0m\u001b[1;33m\u001b[0m\u001b[0m\n\u001b[0;32m    140\u001b[0m             \u001b[1;32mreturn\u001b[0m \u001b[0mres\u001b[0m\u001b[1;33m\u001b[0m\u001b[1;33m\u001b[0m\u001b[0m\n\u001b[0;32m    141\u001b[0m         \u001b[1;32mexcept\u001b[0m \u001b[0mBaseException\u001b[0m\u001b[1;33m:\u001b[0m\u001b[1;33m\u001b[0m\u001b[1;33m\u001b[0m\u001b[0m\n\u001b[1;32m--> 142\u001b[1;33m             \u001b[1;32mraise\u001b[0m\u001b[1;33m\u001b[0m\u001b[1;33m\u001b[0m\u001b[0m\n\u001b[0m",
      "\u001b[1;32m~\\AppData\\Local\\miniconda3\\envs\\heart\\Lib\\site-packages\\spiceypy\\spiceypy.py\u001b[0m in \u001b[0;36m?\u001b[1;34m(f)\u001b[0m\n\u001b[0;32m    118\u001b[0m         \u001b[0mexplain\u001b[0m \u001b[1;33m=\u001b[0m \u001b[0mgetmsg\u001b[0m\u001b[1;33m(\u001b[0m\u001b[1;34m\"EXPLAIN\"\u001b[0m\u001b[1;33m,\u001b[0m \u001b[1;36m100\u001b[0m\u001b[1;33m)\u001b[0m\u001b[1;33m.\u001b[0m\u001b[0mstrip\u001b[0m\u001b[1;33m(\u001b[0m\u001b[1;33m)\u001b[0m\u001b[1;33m\u001b[0m\u001b[1;33m\u001b[0m\u001b[0m\n\u001b[0;32m    119\u001b[0m         \u001b[0mlong\u001b[0m \u001b[1;33m=\u001b[0m \u001b[0mgetmsg\u001b[0m\u001b[1;33m(\u001b[0m\u001b[1;34m\"LONG\"\u001b[0m\u001b[1;33m,\u001b[0m \u001b[1;36m1841\u001b[0m\u001b[1;33m)\u001b[0m\u001b[1;33m.\u001b[0m\u001b[0mstrip\u001b[0m\u001b[1;33m(\u001b[0m\u001b[1;33m)\u001b[0m\u001b[1;33m\u001b[0m\u001b[1;33m\u001b[0m\u001b[0m\n\u001b[0;32m    120\u001b[0m         \u001b[0mtraceback\u001b[0m \u001b[1;33m=\u001b[0m \u001b[0mqcktrc\u001b[0m\u001b[1;33m(\u001b[0m\u001b[1;36m200\u001b[0m\u001b[1;33m)\u001b[0m\u001b[1;33m\u001b[0m\u001b[1;33m\u001b[0m\u001b[0m\n\u001b[0;32m    121\u001b[0m         \u001b[0mreset\u001b[0m\u001b[1;33m(\u001b[0m\u001b[1;33m)\u001b[0m\u001b[1;33m\u001b[0m\u001b[1;33m\u001b[0m\u001b[0m\n\u001b[1;32m--> 122\u001b[1;33m         raise dynamically_instantiate_spiceyerror(\n\u001b[0m\u001b[0;32m    123\u001b[0m             \u001b[0mshort\u001b[0m\u001b[1;33m=\u001b[0m\u001b[0mshort\u001b[0m\u001b[1;33m,\u001b[0m \u001b[0mexplain\u001b[0m\u001b[1;33m=\u001b[0m\u001b[0mexplain\u001b[0m\u001b[1;33m,\u001b[0m \u001b[0mlong\u001b[0m\u001b[1;33m=\u001b[0m\u001b[0mlong\u001b[0m\u001b[1;33m,\u001b[0m \u001b[0mtraceback\u001b[0m\u001b[1;33m=\u001b[0m\u001b[0mtraceback\u001b[0m\u001b[1;33m\u001b[0m\u001b[1;33m\u001b[0m\u001b[0m\n\u001b[0;32m    124\u001b[0m         \u001b[1;33m)\u001b[0m\u001b[1;33m\u001b[0m\u001b[1;33m\u001b[0m\u001b[0m\n",
      "\u001b[1;31mSpiceIDCODENOTFOUND\u001b[0m: \n================================================================================\n\nToolkit version: CSPICE_N0067\n\nSPICE(IDCODENOTFOUND) --\n\nThe target, 'PSP', is not a recognized name for an ephemeris object. The cause of this problem may be that you need an updated version of the SPICE toolkit. Alternatively you may call SPKEZP directly if you know the SPICE id-codes for both 'PSP' and 'SUN'\n\nspkpos_c --> SPKPOS\n\n================================================================================"
     ]
    }
   ],
   "source": [
    "import spiceypy as spice\n",
    "import numpy as np\n",
    "import pandas as pd\n",
    "from datetime import datetime, timedelta\n",
    "\n",
    "# Load the necessary SPICE kernels\n",
    "spice.furnsh(\"spice_kernels/naif0012.tls\")  # Leap seconds kernel\n",
    "spice.furnsh(\"spice_kernels/de440s.bsp\")    # Planetary ephemeris kernel\n",
    "spice.furnsh(\"spice_kernels/psp_pred.bsp\")   # Parker Solar Probe trajectory\n",
    "\n",
    "# Generate dates from 2018 to 2025 in 1-day increments\n",
    "start_date = datetime(2018, 1, 1)\n",
    "end_date = datetime(2025, 12, 31)\n",
    "dates = [start_date + timedelta(days=i) for i in range((end_date - start_date).days + 1)]\n",
    "\n",
    "# Convert dates to Ephemeris Time (ET)\n",
    "et_times = [spice.str2et(date.strftime(\"%Y-%m-%d\")) for date in dates]\n",
    "\n",
    "# Compute PSP’s position relative to the Sun\n",
    "positions = [spice.spkpos(\"PSP\", et, \"ECLIPJ2000\", \"NONE\", \"SUN\")[0] for et in et_times]\n",
    "\n",
    "# Convert to Pandas DataFrame\n",
    "df = pd.DataFrame({\n",
    "    \"date\": dates,\n",
    "    \"x\": [pos[0] / 1.496e+8 for pos in positions],  # Convert km to AU\n",
    "    \"y\": [pos[1] / 1.496e+8 for pos in positions],\n",
    "    \"z\": [pos[2] / 1.496e+8 for pos in positions],\n",
    "})\n",
    "\n",
    "# Print sample data\n",
    "print(df.head())\n",
    "\n",
    "# Unload SPICE kernels\n",
    "spice.kclear()\n"
   ]
  },
  {
   "cell_type": "code",
   "execution_count": 11,
   "id": "800fffa7-5d4d-442a-9edc-a65f885ef38d",
   "metadata": {},
   "outputs": [
    {
     "name": "stdout",
     "output_type": "stream",
     "text": [
      "('spice_kernels/de440s.bsp', 'SPK', '', 3)\n"
     ]
    }
   ],
   "source": [
    "import spiceypy as spice\n",
    "\n",
    "spice.kclear()  # Clear all kernels\n",
    "spice.furnsh(\"spice_kernels/naif0012.tls\")  # Leap seconds\n",
    "spice.furnsh(\"spice_kernels/de440s.bsp\")    # Planetary ephemeris\n",
    "spice.furnsh(\"spice_kernels/psp_pred.bsp\")  # PSP kernel (update filename if needed)\n",
    "\n",
    "# Print loaded kernels\n",
    "print(spice.kdata(0, \"SPK\", 100, 100, 100))"
   ]
  },
  {
   "cell_type": "code",
   "execution_count": 12,
   "id": "99e6ac6f-442b-47b8-9793-5976dcb936ba",
   "metadata": {},
   "outputs": [
    {
     "name": "stdout",
     "output_type": "stream",
     "text": [
      "Available SPICE IDs: <SpiceCell dtype = 2, length = 0, size = 1000, card = 1, is_set = 1, adjust = 0, init = 1, base = 1302101016368, data = 1302101016392>\n"
     ]
    }
   ],
   "source": [
    "# Get a list of all available objects in the loaded kernels\n",
    "ids = spice.spkobj(\"spice_kernels/psp_pred.bsp\")\n",
    "print(\"Available SPICE IDs:\", ids)\n"
   ]
  },
  {
   "cell_type": "code",
   "execution_count": 13,
   "id": "104512eb-dddf-41d0-97e1-d1aed4d8c83a",
   "metadata": {},
   "outputs": [
    {
     "name": "stdout",
     "output_type": "stream",
     "text": [
      "Object ID -96: SOLAR PROBE PLUS\n"
     ]
    }
   ],
   "source": [
    "for obj_id in ids:\n",
    "    print(f\"Object ID {obj_id}: {spice.bodc2n(obj_id)}\")  # Get object name"
   ]
  },
  {
   "cell_type": "code",
   "execution_count": 15,
   "id": "d80eb35f-a99c-4649-874b-d334ac660997",
   "metadata": {},
   "outputs": [
    {
     "ename": "SpiceIDCODENOTFOUND",
     "evalue": "\n================================================================================\n\nToolkit version: CSPICE_N0067\n\nSPICE(IDCODENOTFOUND) --\n\nThe target, '-96: SOLAR PROBE PLUS', is not a recognized name for an ephemeris object. The cause of this problem may be that you need an updated version of the SPICE toolkit. Alternatively you may call SPKEZP directly if you know the SPICE id-codes for both '-96: SOLAR PROBE PLUS' and 'SUN'\n\nspkpos_c --> SPKPOS\n\n================================================================================",
     "output_type": "error",
     "traceback": [
      "\u001b[1;31m---------------------------------------------------------------------------\u001b[0m",
      "\u001b[1;31mSpiceIDCODENOTFOUND\u001b[0m                       Traceback (most recent call last)",
      "\u001b[1;32m~\\AppData\\Local\\Temp\\1\\ipykernel_17124\\4261187751.py\u001b[0m in \u001b[0;36m?\u001b[1;34m()\u001b[0m\n\u001b[1;32m----> 1\u001b[1;33m \u001b[0mpositions\u001b[0m \u001b[1;33m=\u001b[0m \u001b[1;33m[\u001b[0m\u001b[0mspice\u001b[0m\u001b[1;33m.\u001b[0m\u001b[0mspkpos\u001b[0m\u001b[1;33m(\u001b[0m\u001b[1;34m\"-96: SOLAR PROBE PLUS\"\u001b[0m\u001b[1;33m,\u001b[0m \u001b[0met\u001b[0m\u001b[1;33m,\u001b[0m \u001b[1;34m\"ECLIPJ2000\"\u001b[0m\u001b[1;33m,\u001b[0m \u001b[1;34m\"NONE\"\u001b[0m\u001b[1;33m,\u001b[0m \u001b[1;34m\"SUN\"\u001b[0m\u001b[1;33m)\u001b[0m\u001b[1;33m[\u001b[0m\u001b[1;36m0\u001b[0m\u001b[1;33m]\u001b[0m \u001b[1;32mfor\u001b[0m \u001b[0met\u001b[0m \u001b[1;32min\u001b[0m \u001b[0met_times\u001b[0m\u001b[1;33m]\u001b[0m\u001b[1;33m\u001b[0m\u001b[1;33m\u001b[0m\u001b[0m\n\u001b[0m",
      "\u001b[1;32m~\\AppData\\Local\\miniconda3\\envs\\heart\\Lib\\site-packages\\spiceypy\\spiceypy.py\u001b[0m in \u001b[0;36m?\u001b[1;34m(*args, **kwargs)\u001b[0m\n\u001b[0;32m    138\u001b[0m             \u001b[0mres\u001b[0m \u001b[1;33m=\u001b[0m \u001b[0mf\u001b[0m\u001b[1;33m(\u001b[0m\u001b[1;33m*\u001b[0m\u001b[0margs\u001b[0m\u001b[1;33m,\u001b[0m \u001b[1;33m**\u001b[0m\u001b[0mkwargs\u001b[0m\u001b[1;33m)\u001b[0m\u001b[1;33m\u001b[0m\u001b[1;33m\u001b[0m\u001b[0m\n\u001b[0;32m    139\u001b[0m             \u001b[0mcheck_for_spice_error\u001b[0m\u001b[1;33m(\u001b[0m\u001b[0mf\u001b[0m\u001b[1;33m)\u001b[0m\u001b[1;33m\u001b[0m\u001b[1;33m\u001b[0m\u001b[0m\n\u001b[0;32m    140\u001b[0m             \u001b[1;32mreturn\u001b[0m \u001b[0mres\u001b[0m\u001b[1;33m\u001b[0m\u001b[1;33m\u001b[0m\u001b[0m\n\u001b[0;32m    141\u001b[0m         \u001b[1;32mexcept\u001b[0m \u001b[0mBaseException\u001b[0m\u001b[1;33m:\u001b[0m\u001b[1;33m\u001b[0m\u001b[1;33m\u001b[0m\u001b[0m\n\u001b[1;32m--> 142\u001b[1;33m             \u001b[1;32mraise\u001b[0m\u001b[1;33m\u001b[0m\u001b[1;33m\u001b[0m\u001b[0m\n\u001b[0m",
      "\u001b[1;32m~\\AppData\\Local\\miniconda3\\envs\\heart\\Lib\\site-packages\\spiceypy\\spiceypy.py\u001b[0m in \u001b[0;36m?\u001b[1;34m(f)\u001b[0m\n\u001b[0;32m    118\u001b[0m         \u001b[0mexplain\u001b[0m \u001b[1;33m=\u001b[0m \u001b[0mgetmsg\u001b[0m\u001b[1;33m(\u001b[0m\u001b[1;34m\"EXPLAIN\"\u001b[0m\u001b[1;33m,\u001b[0m \u001b[1;36m100\u001b[0m\u001b[1;33m)\u001b[0m\u001b[1;33m.\u001b[0m\u001b[0mstrip\u001b[0m\u001b[1;33m(\u001b[0m\u001b[1;33m)\u001b[0m\u001b[1;33m\u001b[0m\u001b[1;33m\u001b[0m\u001b[0m\n\u001b[0;32m    119\u001b[0m         \u001b[0mlong\u001b[0m \u001b[1;33m=\u001b[0m \u001b[0mgetmsg\u001b[0m\u001b[1;33m(\u001b[0m\u001b[1;34m\"LONG\"\u001b[0m\u001b[1;33m,\u001b[0m \u001b[1;36m1841\u001b[0m\u001b[1;33m)\u001b[0m\u001b[1;33m.\u001b[0m\u001b[0mstrip\u001b[0m\u001b[1;33m(\u001b[0m\u001b[1;33m)\u001b[0m\u001b[1;33m\u001b[0m\u001b[1;33m\u001b[0m\u001b[0m\n\u001b[0;32m    120\u001b[0m         \u001b[0mtraceback\u001b[0m \u001b[1;33m=\u001b[0m \u001b[0mqcktrc\u001b[0m\u001b[1;33m(\u001b[0m\u001b[1;36m200\u001b[0m\u001b[1;33m)\u001b[0m\u001b[1;33m\u001b[0m\u001b[1;33m\u001b[0m\u001b[0m\n\u001b[0;32m    121\u001b[0m         \u001b[0mreset\u001b[0m\u001b[1;33m(\u001b[0m\u001b[1;33m)\u001b[0m\u001b[1;33m\u001b[0m\u001b[1;33m\u001b[0m\u001b[0m\n\u001b[1;32m--> 122\u001b[1;33m         raise dynamically_instantiate_spiceyerror(\n\u001b[0m\u001b[0;32m    123\u001b[0m             \u001b[0mshort\u001b[0m\u001b[1;33m=\u001b[0m\u001b[0mshort\u001b[0m\u001b[1;33m,\u001b[0m \u001b[0mexplain\u001b[0m\u001b[1;33m=\u001b[0m\u001b[0mexplain\u001b[0m\u001b[1;33m,\u001b[0m \u001b[0mlong\u001b[0m\u001b[1;33m=\u001b[0m\u001b[0mlong\u001b[0m\u001b[1;33m,\u001b[0m \u001b[0mtraceback\u001b[0m\u001b[1;33m=\u001b[0m\u001b[0mtraceback\u001b[0m\u001b[1;33m\u001b[0m\u001b[1;33m\u001b[0m\u001b[0m\n\u001b[0;32m    124\u001b[0m         \u001b[1;33m)\u001b[0m\u001b[1;33m\u001b[0m\u001b[1;33m\u001b[0m\u001b[0m\n",
      "\u001b[1;31mSpiceIDCODENOTFOUND\u001b[0m: \n================================================================================\n\nToolkit version: CSPICE_N0067\n\nSPICE(IDCODENOTFOUND) --\n\nThe target, '-96: SOLAR PROBE PLUS', is not a recognized name for an ephemeris object. The cause of this problem may be that you need an updated version of the SPICE toolkit. Alternatively you may call SPKEZP directly if you know the SPICE id-codes for both '-96: SOLAR PROBE PLUS' and 'SUN'\n\nspkpos_c --> SPKPOS\n\n================================================================================"
     ]
    }
   ],
   "source": [
    "positions = [spice.spkpos(\"-96: SOLAR PROBE PLUS\", et, \"ECLIPJ2000\", \"NONE\", \"SUN\")[0] for et in et_times]"
   ]
  },
  {
   "cell_type": "code",
   "execution_count": null,
   "id": "05bcb839-db0e-4e2b-bd85-ae4491c5ba2a",
   "metadata": {},
   "outputs": [],
   "source": [
    "from astroquery.jplhorizons import Horizons\n",
    "import pandas as pd\n",
    "import time  # To prevent API rate limits\n",
    "\n",
    "# Generate date range from 2018 to 2025 in 1-day increments\n",
    "dates = pd.date_range(start=\"2018-01-01\", end=\"2025-12-31\", freq=\"D\")\n",
    "\n",
    "# Empty list to store results\n",
    "data = []\n",
    "\n",
    "# Fetch data in chunks to avoid API errors\n",
    "for date in dates:\n",
    "    date_str = date.strftime(\"%Y-%m-%d\")  # Convert to JPL Horizons format\n",
    "\n",
    "    try:\n",
    "        # Query PSP (-96) relative to the Sun (500@10)\n",
    "        obj = Horizons(id='-96', location='500@10', epochs=[date_str]).vectors()\n",
    "\n",
    "        # Append results\n",
    "        data.append({\n",
    "            \"date\": pd.to_datetime(obj['datetime_jd'], origin='julian', unit='D'),\n",
    "            \"x\": float(obj['x']),\n",
    "            \"y\": float(obj['y']),\n",
    "            \"z\": float(obj['z'])\n",
    "        })\n",
    "\n",
    "        time.sleep(0.5)  # Prevent overwhelming the server\n",
    "\n",
    "    except Exception as e:\n",
    "        print(f\"Error fetching data for {date_str}: {e}\")\n",
    "\n",
    "# Convert to DataFrame\n",
    "df = pd.DataFrame(data)\n",
    "\n",
    "# Print sample data\n",
    "print(df.head())\n",
    "\n",
    "\n",
    "df.to_csv(\"./data/psp_1day_output_same_planet_format.csv\", index=False)"
   ]
  },
  {
   "cell_type": "code",
   "execution_count": null,
   "id": "5c9f7794-177a-4b21-ba85-ad11f0281aaf",
   "metadata": {},
   "outputs": [],
   "source": [
    "import matplotlib.pyplot as plt\n",
    "\n",
    "server     = 'https://amda.irap.omp.eu/service/hapi'\n",
    "dataset    = 'psp-orb-all'\n",
    "\n",
    "parameters = ''\n",
    "start      = '2018-08-12T08:16:23Z' # min 2018-08-12T08:16:23Z\n",
    "stop       = '2025-02-05T08:16:23.000Z' # max 2025-08-30T23:00:00Z\n",
    "\n",
    "data, meta = hapi(server, dataset, parameters, start, stop)\n",
    "\n",
    "# 1. To convert ISO 8601 strings the primary time parameter to Python\n",
    "#    datetimes, use\n",
    "#      from hapiclient import hapitime2datetime\n",
    "#      time_name = meta[\"parameters\"][0][\"name\"] # Primary time parameter is always first.\n",
    "#      Time = hapitime2datetime(data[time_name])\n",
    "# 2. Details about the data and metadata structures `data`\n",
    "#    and `meta` are given at \n",
    "#    https://github.com/hapi-server/client-python-notebooks/blob/master/hapi_demo.ipynb\n",
    "# 3. Many examples for using `data` and `meta` with other\n",
    "#    Python libraries (e.g., Pandas, Numpy, Astropy) are given\n",
    "#    in above-referenced notebook."
   ]
  },
  {
   "cell_type": "code",
   "execution_count": null,
   "id": "00358e9f-d34a-4441-8680-65df3969f290",
   "metadata": {},
   "outputs": [],
   "source": [
    "data_dict = {name: data[name] for name in data.dtype.names}\n",
    "# Convert to DataFrame\n",
    "df = pd.DataFrame([data_dict])\n",
    "df['Time'] = df['Time'].apply(lambda x: x[0].decode('utf-8') if isinstance(x, (list, np.ndarray)) else x)\n",
    "# Convert to datetime64\n",
    "df['Time'] = pd.to_datetime(df['Time'])\n",
    "#df.to_csv(\"./data/psp_venus_output.csv\", index=False)"
   ]
  },
  {
   "cell_type": "code",
   "execution_count": null,
   "id": "f991cd3a-9421-474f-863e-f358999d25c2",
   "metadata": {},
   "outputs": [],
   "source": [
    "df"
   ]
  },
  {
   "cell_type": "code",
   "execution_count": null,
   "id": "afb966b2-9ee1-450f-bf63-99df2050eeb1",
   "metadata": {},
   "outputs": [],
   "source": [
    "df.psp_lon_sun[0].size"
   ]
  },
  {
   "cell_type": "code",
   "execution_count": null,
   "id": "ca4de2ec-d1f5-4aa4-a8cf-6e0604f57427",
   "metadata": {},
   "outputs": [],
   "source": [
    "lon = np.linspace(0, 360, 100)  # Longitude from 0 to 360 degrees\n",
    "lon = df.psp_lon_sun[0][0:3000]\n",
    "radius = df.psp_r_sun[0][0:3000]  # Varying radius for demonstration\n",
    "\n",
    "# Convert Longitude to Radians\n",
    "theta = np.radians(lon)\n",
    "\n",
    "# Create Polar Plot\n",
    "fig, ax = plt.subplots(subplot_kw={'projection': 'polar'})\n",
    "\n",
    "# Plot the Object's Path\n",
    "ax.plot(theta, radius, label=\"Orbiting Object\")\n",
    "\n",
    "# Mark the Center (Central Body)\n",
    "ax.plot(0, 0, 'ro', markersize=10, label=\"Central Object\")\n",
    "\n",
    "# Formatting\n",
    "ax.set_theta_zero_location('E')  # Set 0° at the right (East)\n",
    "ax.set_theta_direction(-1)       # Clockwise direction\n",
    "ax.set_rticks([])                # Remove radial ticks\n",
    "ax.legend()\n"
   ]
  },
  {
   "cell_type": "code",
   "execution_count": null,
   "id": "0dc7b4ff-3c7f-4d0a-a693-2d48de7155c2",
   "metadata": {},
   "outputs": [],
   "source": [
    "plt.plot(df.psp_lon_sun[0],df.psp_r_sun[0])\n",
    "#plt.plot(df.psp_lon_hci[0],df.psp_lat_hci[0])\n",
    "#plt.plot(df.psp_lon_hee[0],df.psp_lat_hee[0])"
   ]
  },
  {
   "cell_type": "code",
   "execution_count": null,
   "id": "54cdf209-8aba-4bbb-8762-c14344833a5e",
   "metadata": {},
   "outputs": [],
   "source": [
    "print(df.dtypes)  # Check column types\n",
    "print(df.head())  # Inspect the first few rows\n",
    "#df2=df\n",
    "for col in df.columns:\n",
    "    if col=='Time':\n",
    "        continue\n",
    "    #df[~df[col].apply(lambda x: isinstance(x, (int, float)))]\n",
    "    #df[col] = df[col].astype(str).str.extract(r'(\\d+\\.?\\d*)')\n",
    "    df[col] = pd.to_numeric(df[col], errors='ignore\n",
    "#    df2[col] = pd.to_numeric(df[col])\n",
    "#print(df2.dtypes)  # Check column types\n",
    "#print(df2.head())  # Inspect the first few rows\n"
   ]
  },
  {
   "cell_type": "code",
   "execution_count": null,
   "id": "4c16dfcc-f8e7-4b70-811f-47405cb5e891",
   "metadata": {},
   "outputs": [],
   "source": [
    "print(df.dtypes)  # Check column types\n",
    "print(df.head())  # Inspect the first few rows\n",
    "\n"
   ]
  },
  {
   "cell_type": "code",
   "execution_count": null,
   "id": "723100e3-f345-4388-9763-677b16fc259a",
   "metadata": {},
   "outputs": [],
   "source": [
    "df.psp_lon_sun[0:10]"
   ]
  },
  {
   "cell_type": "code",
   "execution_count": null,
   "id": "ff89b3ec-2290-4eff-914b-7b1de65ef49e",
   "metadata": {},
   "outputs": [],
   "source": [
    "df"
   ]
  },
  {
   "cell_type": "code",
   "execution_count": null,
   "id": "52046822-2f68-4acb-a5e2-e63d4179df7e",
   "metadata": {},
   "outputs": [],
   "source": []
  }
 ],
 "metadata": {
  "kernelspec": {
   "display_name": "Python 3 (ipykernel)",
   "language": "python",
   "name": "python3"
  },
  "language_info": {
   "codemirror_mode": {
    "name": "ipython",
    "version": 3
   },
   "file_extension": ".py",
   "mimetype": "text/x-python",
   "name": "python",
   "nbconvert_exporter": "python",
   "pygments_lexer": "ipython3",
   "version": "3.12.7"
  }
 },
 "nbformat": 4,
 "nbformat_minor": 5
}
